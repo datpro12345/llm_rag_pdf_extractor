{
 "cells": [
  {
   "cell_type": "code",
   "execution_count": 46,
   "metadata": {},
   "outputs": [],
   "source": [
    "# !pip3 install --upgrade --quiet langchain langchain-community langchain-openai chromadb\n",
    "# !pip3 install --upgrade --quiet pypdf pandas streamlit python-dotenv\n"
   ]
  },
  {
   "cell_type": "code",
   "execution_count": 47,
   "metadata": {},
   "outputs": [],
   "source": [
    "# Import Langchain modules\n",
    "from langchain.document_loaders import PyPDFLoader\n",
    "from langchain.text_splitter import RecursiveCharacterTextSplitter\n",
    "from langchain_openai import OpenAIEmbeddings, ChatOpenAI\n",
    "from langchain.vectorstores import Chroma\n",
    "from langchain_core.runnables import RunnablePassthrough\n",
    "from langchain_core.prompts import ChatPromptTemplate\n",
    "from langchain_core.pydantic_v1 import BaseModel, Field\n",
    "\n",
    "# Other modules and packages\n",
    "import os\n",
    "import tempfile\n",
    "import streamlit as st  \n",
    "import pandas as pd\n",
    "from dotenv import load_dotenv"
   ]
  },
  {
   "cell_type": "code",
   "execution_count": 48,
   "metadata": {},
   "outputs": [],
   "source": [
    "# Load environment variables\n",
    "load_dotenv()\n",
    "GOOGLE_API_KEY = os.environ.get(\"GOOGLE_API_KEY\")"
   ]
  },
  {
   "cell_type": "markdown",
   "metadata": {},
   "source": [
    "# 2. Define the LLM (Language Model)"
   ]
  },
  {
   "cell_type": "code",
   "execution_count": 49,
   "metadata": {},
   "outputs": [
    {
     "data": {
      "text/plain": [
       "AIMessage(content='Tuyệt vời! Bạn muốn nghe chuyện cười về chó và mèo đúng không? Để mình kể cho bạn vài câu nhé:\\n\\n1.  **Vì sao chó lại là bạn thân nhất của con người?**\\n    *   Vì nó không bao giờ cho bạn mượn tiền! (Mèo thì có khi lại đòi bạn \"cúng\" đồ ăn cho nó ấy chứ!)\\n\\n2.  **Con mèo nào sợ chuột Mickey nhất?**\\n    *   Tom! (Tom & Jerry đó!)\\n\\n3.  **Chó và mèo khác nhau ở điểm nào khi đi bơi?**\\n    *   Chó thì bơi \"gâu gâu\", còn mèo thì... \"meo meo\" xin lên bờ!\\n\\n4.  **Một con chó đi vào thư viện. Nó nói gì?**\\n    *   \"Gâu gâu! Sách ở đâu?\"\\n\\n5.  **Hai con mèo ngồi trên mái nhà. Một con bị ngã. Con còn lại nói gì?**\\n    *   \"Meo!\" (Ý là \"Một mình tao!\")\\n\\nBạn thấy mấy câu này thế nào? Nếu bạn muốn nghe nữa, cứ bảo mình nhé! Mình còn nhiều chuyện về chó và mèo lắm!', additional_kwargs={}, response_metadata={'prompt_feedback': {'block_reason': 0, 'safety_ratings': []}, 'finish_reason': 'STOP', 'safety_ratings': []}, id='run-a9ff2cc0-536b-4675-809c-7bae25d9677e-0', usage_metadata={'input_tokens': 6, 'output_tokens': 259, 'total_tokens': 265, 'input_token_details': {'cache_read': 0}})"
      ]
     },
     "execution_count": 49,
     "metadata": {},
     "output_type": "execute_result"
    }
   ],
   "source": [
    "from langchain_google_genai import ChatGoogleGenerativeAI\n",
    "\n",
    "# Initialize the LLM using Google Generative AI\n",
    "llm = ChatGoogleGenerativeAI(\n",
    "    model=\"gemini-2.0-flash\",\n",
    "    api_key=GOOGLE_API_KEY  # Replace with your Google API Key\n",
    ")\n",
    "\n",
    "# Test the LLM\n",
    "response = llm.invoke(\"Chuyện cười chó và mèo\")\n",
    "response"
   ]
  },
  {
   "cell_type": "markdown",
   "metadata": {},
   "source": [
    "# 3. Process PDF Document\n",
    "\n",
    "## 3.1 Load PDF Document"
   ]
  },
  {
   "cell_type": "code",
   "execution_count": 50,
   "metadata": {},
   "outputs": [
    {
     "name": "stderr",
     "output_type": "stream",
     "text": [
      "Ignoring wrong pointing object 18 0 (offset 0)\n"
     ]
    },
    {
     "data": {
      "text/plain": [
       "[Document(metadata={'producer': 'macOS Version 14.4.1 (Build 23E224) Quartz PDFContext, AppendMode 1.1', 'creator': 'Preview', 'creationdate': \"D:20240909152042Z00'00'\", 'author': 'Thu Vu', 'moddate': \"D:20240910141854Z00'00'\", 'title': 'Oppenheimer-2006-Applied_Cognitive_Psychology', 'source': 'data/Oppenheimer-2006-Applied_Cognitive_Psychology.pdf', 'total_pages': 3, 'page': 0, 'page_label': '1'}, page_content='APPLIED COGNITIVE PSYCHOLOGY\\nAppl. Cognit. Psychol. 20: 139–156 (2006)\\nPublished online 31 October 2005 in Wiley InterScience\\n(www.interscience.wiley.com) DOI: 10.1002/acp.1178\\nConsequences of Erudite Vernacular Utilized Irrespective\\nof Necessity: Problems with Using Long Words Needlessly\\nDANIEL M. OPPENHEIMER*\\nPrinceton University, USA\\nSUMMARY\\nMost texts on writing style encourage authors to avoid overly-complex words. However, a majority\\nof undergraduates admit to deliberately increasing the complexity of their vocabulary so as to give\\nthe impression of intelligence. This paper explores the extent to which this strategy is effective.\\nExperiments 1–3 manipulate complexity of texts and ﬁnd a negative relationship between complex-\\nity and judged intelligence. This relationship held regardless of the quality of the original essay, and\\nirrespective of the participants’ prior expectations of essay quality. The negative impact of\\ncomplexity was mediated by processing ﬂuency. Experiment 4 directly manipulated ﬂuency and\\nfound that texts in hard to read fonts are judged to come from less intelligent authors. Experiment 5\\ninvestigated discounting of ﬂuency. When obvious causes for low ﬂuency exist that are not relevant\\nto the judgement at hand, people reduce their reliance on ﬂuency as a cue; in fact, in an effort not to\\nbe inﬂuenced by the irrelevant source of ﬂuency, they over-compensate and are biased in the opposite\\ndirection. Implications and applications are discussed. Copyright # 2005 John Wiley & Sons, Ltd.\\nWhen it comes to writing, most experts agree that clarity, simplicity and parsimony are\\nideals that authors should strive for. In their classic manual of style, Strunk and White\\n(1979) encourage authors to ‘omit needless words.’ Daryl Bem’s (1995) guidelines for\\nsubmission to Psychological Bulletin advise, ‘the ﬁrst step towards clarity is writing\\nsimply.’ Even the APA publication manual (1996) recommends, ‘direct, declarative\\nsentences with simple common words are usually best.’\\nHowever, most of us can likely recall having read papers, either by colleagues or\\nstudents, in which the author appears to be deliberately using overly complex words.\\nExperience suggests that the experts’ advice contrasts with prevailing wisdom on how to\\nsound more intelligent as a writer. In fact, when 110 Stanford undergraduates were polled\\nabout their writing habits, most of them admitted that they had made their writing more\\ncomplex in order to appear smarter. For example, when asked, ‘Have you ever changed the\\nwords in an academic essay to make the essay sound more valid or intelligent by using\\ncomplicated language?’ 86.4% of the sample admitted to having done so. Nearly two-\\nthirds answered yes to the question, ‘When you write an essay, do you turn to the thesaurus\\nto choose words that are more complex to give the impression that the content is more\\nvalid or intelligent?’\\nCopyright # 2005 John Wiley & Sons, Ltd.\\n*Correspondence to: D. M. Oppenheimer, Department of Psychology, Princeton University, Green Hall Room\\n2-S-8, Princeton, NJ 08540, USA. E-mail: doppenhe@princeton.edu'),\n",
       " Document(metadata={'producer': 'macOS Version 14.4.1 (Build 23E224) Quartz PDFContext, AppendMode 1.1', 'creator': 'Preview', 'creationdate': \"D:20240909152042Z00'00'\", 'author': 'Thu Vu', 'moddate': \"D:20240910141854Z00'00'\", 'title': 'Oppenheimer-2006-Applied_Cognitive_Psychology', 'source': 'data/Oppenheimer-2006-Applied_Cognitive_Psychology.pdf', 'total_pages': 3, 'page': 1, 'page_label': '2'}, page_content='There are many plausible reasons that the use of million-dollar words would lead\\nreaders to believe that an author is smart. Intelligence and large vocabularies are positively\\ncorrelated (Spearman, 1904). Therefore, by displaying a large vocabulary, one may be\\nproviding cues that he or she is intelligent as well. Secondly, writers are assumed to be\\nconforming to the Gricean maxim of manner, ‘avoid obscurity of expression’ (Grice,\\n1975). If authors are believed to be writing as simply as possible, but a text is nonetheless\\ncomplex, a reader might believe that the ideas expressed in that text are also complex,\\ndefying all attempts to simplify the language. Further, individuals forced to struggle\\nthrough a complex text might experience dissonance if they believe that the ideas being\\nconveyed are simple (Festinger, 1957). Thus, individuals might be motivated to perceive a\\ndifﬁcult text as being more worthwhile, thereby justifying the effort of processing.\\nIndeed, there is some evidence that complex vocabulary can be indicative of a more\\nintelligent author. For example, Penneba ker and King (1999) have shown that the\\npercentage of long words used in class as signments positively correlates with SAT\\nscores and exam grades on both multiple cho ice and essay tests. However it is difﬁcult\\nto draw conclusions about the effectiveness of a strategy of complexity from this data.\\nThe study did not look at how readers of the texts containing the long words perceived\\nthe authors’ intelligence. Thus, it is possi ble that although students using complex\\nvocabularies are objectively very knowledgeable, they might nonetheless be perceived\\nas being less so.\\nWhy might we believe that the experts might be correct in recommending simplicity in\\nwriting? One theory that predicts the effectiveness of straightforward writing is that of\\nprocessing ﬂuency. Simpler writing is easier to process, and studies have demonstrated\\nthat processing ﬂuency is associated with a variety of positive dimensions. Fluency leads\\nto higher judgements of truth (Reber & Schwarz, 1999), conﬁdence (Norwick & Epley,\\n2002), frequency (Tversky & Kahneman, 1973), fame (Jacoby, Kelley, Brown, &\\nJasechko, 1989), and even liking (Reber, Winkielman, & Schwarz, 1998). Furthermore,\\nthe effects of ﬂuency are strongest when the ﬂuency is discrepant—when the amount of\\nexperienced ﬂuency is surprising (Whittlesea & Williams, 2001a, 2001b). As such, it\\nwould not be surprising if the lower ﬂuency of overly complex texts caused readers to have\\nnegative evaluations of those texts and the associated authors, especially if the complexity\\nwas unnecessary and thus surprising readers with the relative disﬂuency of the text.\\nBoth the experts and prevailing wisdom present plausible views, but which (if either) is\\ncorrect? The present paper provides an empirical investigation of the strategy of complex-\\nity, and ﬁnds such a strategy to be unsuccessful. Five studies demonstrate that the loss of\\nﬂuency due to needless complexity in a text negatively impacts raters’ assessments of the\\ntext’s authors.\\nEXPERIMENT 1\\nExperiment 1 aimed to answer several simple questions. First, does increasing the\\ncomplexity of text succeed in making the author appear more intelligent? Second, to\\nwhat extent does the success of this strategy depend on the quality of the original, simpler\\nwriting? Finally, if the strategy is unsuccessful, is the failure of the strategy due to loss of\\nﬂuency? To answer these questions, graduate school admission essays were made more\\ncomplex by substituting some of the original words with their longest applicable thesaurus\\nentries.\\n140 D. M. Oppenheimer\\nCopyright # 2005 John Wiley & Sons, Ltd. Appl. Cognit. Psychol. 20: 139–156 (2006)'),\n",
       " Document(metadata={'producer': 'macOS Version 14.4.1 (Build 23E224) Quartz PDFContext, AppendMode 1.1', 'creator': 'Preview', 'creationdate': \"D:20240909152042Z00'00'\", 'author': 'Thu Vu', 'moddate': \"D:20240910141854Z00'00'\", 'title': 'Oppenheimer-2006-Applied_Cognitive_Psychology', 'source': 'data/Oppenheimer-2006-Applied_Cognitive_Psychology.pdf', 'total_pages': 3, 'page': 2, 'page_label': '3'}, page_content='While word length is not perfectly interchangeable with sentence complexity—for\\nexample, complexity can come from grammatical structure or infrequent words as\\nwell—it is a useful proxy. Using length as a manipulation of complexity allows for a\\nsimple, easily replicable word replacement algorithm. By keeping content constant and\\nvarying the complexity of vocabulary, it was possible to investigate the effectiveness of\\ncomplexity.\\nParticipants and procedure\\nSeventy-one Stanford University undergraduates participated to fulﬁl part of a course\\nrequirement. The survey was included in a packet of unrelated one-page questionnaires.\\nPackets were distributed in class, and participants were given a week to complete the entire\\npacket.\\nStimuli and design\\nSix personal statements for admissions to graduate studies in English Literature were\\ndownloaded from writing improvement websites. The essays varied greatly both in content\\nand quality of writing. Logical excerpts ranging from 138 to 253 words in length were then\\ntaken from each essay. A ‘highly complex’ version of each excerpt was prepared by\\nreplacing every noun, verb and adjective with its longest entry in the Microsoft Word 2000\\nthesaurus. Words that were longer than any thesaurus entry, were not listed in the\\nthesaurus, or for which there was no entry with the same linguistic sense were not\\nreplaced. If two entries were of the same length, the replacement was chosen alphabe-\\ntically. When necessary, minor modiﬁcations were made to the essay to maintain the\\ngrammatical structure of a sentence (e.g. replacing ‘an’ with ‘a’ for replacement words\\nbeginning with consonants). A ‘moderately complex’ version of each excerpt was created\\nusing the same algorithm as above, except replacing only every third applicable word.\\nExamples of the stimuli can be found in the appendix.\\nEach participant received only one excerpt. Participants were informed that the excerpt\\ncame from a personal statement for graduate study in the Stanford English department.\\nThey were instructed to read the passage, decide whether or not to accept the applicant,\\nand rate their conﬁdence in their decision on a 7-point scale. 1 They were then asked how\\ndifﬁcult the passage was to understand, also on a seven-point scale.\\nResults\\nThe data of one participant was discarded due to an illegible answer. Analysis of the\\nmanipulation check showed that more complex texts were more difﬁcult to read. ( x ¼ 2.9,\\n4.0 and 4.3 for simple, moderately complex and highly complex, respectively). These\\ndifferences were reliable, F(2, 68) ¼ 4.46, p < 0.05, Cohen’s f ¼ 0.18. For other analyses,\\nacceptance ratings ( þ1 for accept, /C01 for reject) were multiplied by conﬁdence ratings to\\ncreate a /C07 to 7 scale of admission conﬁdence. Level of complexity had a reliable\\ninﬂuence on admission conﬁdence ratings, F(2, 70) ¼ 2.46, p < 0.05, Cohen’s f ¼ 0.12.\\n1With the exception of the dichotomous admissions decision, all dependent measures reported in this paper are\\nseven point scales ranging from 1 ¼ ‘not at all’ to 7¼ ‘very’.\\nProblems with long words 141\\nCopyright # 2005 John Wiley & Sons, Ltd. Appl. Cognit. Psychol. 20: 139–156 (2006)')]"
      ]
     },
     "execution_count": 50,
     "metadata": {},
     "output_type": "execute_result"
    }
   ],
   "source": [
    "from langchain.document_loaders import PyPDFLoader\n",
    "\n",
    "# Load the PDF document\n",
    "loader = PyPDFLoader(\"data/Oppenheimer-2006-Applied_Cognitive_Psychology.pdf\")\n",
    "pages = loader.load()\n",
    "pages"
   ]
  },
  {
   "cell_type": "markdown",
   "metadata": {},
   "source": [
    "## 3.2 Split Document into Chunks"
   ]
  },
  {
   "cell_type": "code",
   "execution_count": 60,
   "metadata": {},
   "outputs": [],
   "source": [
    "from langchain.text_splitter import RecursiveCharacterTextSplitter\n",
    "\n",
    "# Split the document into manageable chunks\n",
    "text_splitter = RecursiveCharacterTextSplitter(\n",
    "    chunk_size=2500,\n",
    "    chunk_overlap=200,\n",
    "    length_function=len,\n",
    "    separators=[\"\\n\\n\", \"\\n\", \" \"]\n",
    ")\n",
    "chunks = text_splitter.split_documents(pages)"
   ]
  },
  {
   "cell_type": "code",
   "execution_count": 61,
   "metadata": {},
   "outputs": [
    {
     "data": {
      "text/plain": [
       "6"
      ]
     },
     "execution_count": 61,
     "metadata": {},
     "output_type": "execute_result"
    }
   ],
   "source": [
    "len(chunks)"
   ]
  },
  {
   "cell_type": "markdown",
   "metadata": {},
   "source": [
    "# 4. Create Embeddings"
   ]
  },
  {
   "cell_type": "code",
   "execution_count": 53,
   "metadata": {},
   "outputs": [
    {
     "name": "stdout",
     "output_type": "stream",
     "text": [
      "[-0.009113340638577938, 0.025642933323979378, 0.019517434760928154, 0.0006511401734314859, 0.027571074664592743, 0.10505122691392899, 0.03237470984458923, 0.013585681095719337, 0.04713313654065132, 0.08451203256845474, -0.03134593740105629, 0.056636206805706024, 0.09321527928113937, 0.03322876989841461, 0.028888128697872162, -0.023924704641103745, -0.046473126858472824, 0.007877393625676632, -0.0012024304596707225, 0.04353101924061775, 0.0031726756133139133, -0.02610534243285656, 0.04230271279811859, 0.010575942695140839, -0.04981819540262222, -0.014631428755819798, 0.029210373759269714, -0.004830615129321814, 0.03686540573835373, -0.05973043665289879, -0.0018622172065079212, 0.06998338550329208, 0.008795134723186493, -0.02297103963792324, 0.031142476946115494, 0.02154422365128994, 0.018226802349090576, 0.04965130239725113, 0.007079762872308493, -0.06693778187036514, -0.008708070032298565, -0.018570711836218834, -0.059379804879426956, 0.02941335178911686, 0.051292601972818375, 0.012958642095327377, -0.016356617212295532, 0.005990281701087952, 0.055033691227436066, 0.004989606328308582, 0.02526215836405754, 0.01040387712419033, 0.025666486471891403, 0.011590703390538692, -0.021143512800335884, -0.04453255608677864, -0.05243612825870514, -0.013474894687533379, 0.009074361063539982, -0.019867051392793655, 0.015402041375637054, 0.014007034711539745, -0.028466902673244476, -0.006563790608197451, -0.04995505139231682, -0.05668170750141144, 0.0003830819041468203, 0.03207029402256012, -0.025935204699635506, -0.009461482055485249, -0.04843609035015106, 0.03562578186392784, -0.0633474662899971, 0.004789535887539387, -0.04110555723309517, -0.02670365944504738, 0.005048793274909258, 0.011112090200185776, 0.03724205493927002, 0.0016264874720945954, -0.03225019946694374, -0.03878919035196304, 0.048887718468904495, 0.06351785361766815, 0.03676875680685043, 0.011415369808673859, 0.051808785647153854, -0.012848304584622383, -0.06661491096019745, 0.01318404357880354, -0.020394740626215935, 0.006292989477515221, 0.022515971213579178, 0.009709195233881474, 0.03894992545247078, -0.0339818075299263, -0.07535286992788315, -0.053968727588653564, 0.03766755759716034, 0.031446170061826706, 0.01830216497182846, -0.018746601417660713, 0.016541607677936554, -0.09770569205284119, 0.07633966207504272, 0.04973478242754936, -0.020540693774819374, 0.04178676754236221, -0.03083185851573944, -0.02808050625026226, -0.031969696283340454, -0.003102964023128152, 0.0013825896894559264, -0.02824782021343708, -0.028290295973420143, 0.009394055232405663, -0.03696835786104202, 0.03706858679652214, -0.04355720430612564, -0.046434223651885986, -0.01190077792853117, -0.042757004499435425, -0.04851146414875984, 0.04201442748308182, 0.027310824021697044, 0.025843573734164238, -0.005029250402003527, 0.020750271156430244, -0.044745832681655884, -0.0005365305114537477, 0.032551903277635574, -0.11066149920225143, 0.015097837895154953, 0.009791618213057518, 0.012930618599057198, -0.03464784100651741, 0.039128996431827545, -0.005146749783307314, 0.015749529004096985, 0.02089536562561989, -0.04031067341566086, 0.0004638528625946492, -0.04429991915822029, 0.02447715401649475, -0.018170012161135674, -0.021518437191843987, -0.051714129745960236, 0.01955360919237137, 0.010237635113298893, 0.06207850202918053, -0.05099426954984665, -0.016901660710573196, -0.028099721297621727, -0.00851115770637989, 0.007278175093233585, -0.0038690678775310516, -0.017410503700375557, -0.04378284513950348, 0.07860664278268814, -0.002956668846309185, -0.015820873901247978, 0.00894349254667759, -0.0036929838825017214, 0.04345863312482834, -0.05061423406004906, -0.013778307475149632, 0.04550215229392052, -0.009339628741145134, 0.031982459127902985, 0.006450430024415255, 0.017662720754742622, 0.007645714096724987, -0.04136352241039276, -0.05520552024245262, -0.04053901508450508, -0.03365863487124443, -0.04958469420671463, -0.03963262960314751, -0.021889880299568176, -0.05159558355808258, 0.06965214759111404, -0.007846594788134098, -0.013289601542055607, -0.004941131919622421, -0.025369077920913696, 0.019931133836507797, -0.012072648853063583, -0.031280308961868286, 0.07023853808641434, 0.021138975396752357, 0.028876246884465218, -0.008772146888077259, 0.06069578230381012, -0.04207557439804077, 0.02490965463221073, -0.004677908029407263, -0.005710575729608536, -0.02775672823190689, 0.011172039434313774, 0.019479138776659966, 0.06763540953397751, 0.013454509899020195, -0.057337190955877304, -0.007441957015544176, -0.04331555590033531, 0.031827326864004135, -0.04997861385345459, -0.038369763642549515, 0.07844949513673782, 0.01513640396296978, -0.04949932172894478, -0.0019269700860604644, -0.04475165903568268, 0.02428440749645233, 0.02970692329108715, 0.03662463650107384, 0.027243943884968758, -0.03379200026392937, 0.07996045798063278, -0.03777904063463211, 0.006525042001157999, -0.013099669478833675, 0.0529034286737442, -0.04933657497167587, -0.01053511444479227, 0.011815627105534077, -0.06685800105333328, -0.003107993630692363, 0.07469851523637772, -0.010231707245111465, -0.0031181012745946646, -0.0011354234302416444, -0.022946016862988472, -0.006623915862292051, 0.04645629599690437, 0.024652400985360146, -0.04104122146964073, -0.049736473709344864, 0.035235270857810974, 0.03960930556058884, -0.04660291224718094, -0.023230157792568207, 0.09838476777076721, 0.023259302601218224, -0.0033418317325413227, 0.028588466346263885, -0.005827249959111214, 0.09876953810453415, -0.019384777173399925, -0.026790693402290344, -0.05461721494793892, -0.02482246235013008, -0.010469166561961174, -0.01256608311086893, -0.05472692474722862, -0.037347905337810516, 0.0064836833626031876, -0.01600012183189392, 0.039476919919252396, -0.02790740318596363, -0.00489402748644352, -0.021017884835600853, -0.025133691728115082, -0.08300095051527023, -0.013979512266814709, -0.07973850518465042, 0.004228629637509584, -0.013907966203987598, 0.06880269944667816, -0.044382575899362564, 0.06201345473527908, -0.021624602377414703, -0.0699538141489029, -0.00821447093039751, -0.020559538155794144, -0.0017189972568303347, 0.040462881326675415, -0.023941850289702415, -0.03437735140323639, -0.02876080572605133, 0.038425981998443604, 0.023560237139463425, 0.040044546127319336, -0.0075830197893083096, 0.01567494310438633, 0.0015945638297125697, 0.012220209464430809, 0.0026631562504917383, -0.023848002776503563, 0.029280586168169975, -0.021725399419665337, 0.020298747345805168, -0.015270804986357689, -0.05283033102750778, 0.05079755559563637, 0.0293036550283432, -0.032271288335323334, -0.003967097029089928, -0.004704522900283337, -0.06780004501342773, 0.022939354181289673, 0.025753747671842575, -0.0981227457523346, -0.013907553628087044, 0.024521589279174805, -0.028132712468504906, 0.005243427120149136, -0.03966169059276581, -0.026600657030940056, -0.013820784166455269, 0.004951778333634138, 0.044929858297109604, 0.025253204628825188, -0.01391065213829279, -0.05425584316253662, -0.012912795878946781, -0.10875757783651352, -0.024163566529750824, 0.039025284349918365, 0.003528069006279111, 0.04735393077135086, -0.002761799842119217, -0.08667401224374771, -0.005001724231988192, 0.08981818705797195, -0.004768959246575832, 0.01902930438518524, -0.012407536618411541, 0.016169605776667595, 0.033842314034700394, 0.028585877269506454, -0.004893220961093903, -0.038462817668914795, 0.03361388295888901, -0.01567492075264454, 0.0020961377304047346, -0.02413504756987095, -0.002814484992995858, 0.02423679828643799, 0.0067903101444244385, 0.038218941539525986, 0.045541614294052124, 0.016615241765975952, 0.08140294253826141, -0.0181911438703537, -0.03277793526649475, 0.049011752009391785, 0.022226136177778244, -0.028424549847841263, -0.009849456138908863, 0.013689748011529446, 0.1022067666053772, 0.060064684599637985, 0.010531709529459476, 0.000402202014811337, -0.020516669377684593, -0.019784240052103996, 0.022137368097901344, -0.006395807024091482, -0.04625061899423599, 0.011409922502934933, 0.027702702209353447, -0.039073966443538666, 0.027277812361717224, 0.014378830790519714, -0.005334780085831881, 0.04734431952238083, 0.004752433393150568, -0.04790354147553444, -0.014067322947084904, 0.009398384019732475, 0.07334411144256592, -0.04972875863313675, -0.009173857979476452, 0.08592209219932556, 0.0033988282084465027, 0.01106957532465458, 0.021494707092642784, 0.046589478850364685, -0.09714513272047043, -0.044676780700683594, -0.05866371467709541, -0.04136345908045769, -0.008248473517596722, -0.05992458388209343, 0.02384636178612709, -0.02288423664867878, -0.015678325667977333, 0.008786311373114586, 0.013812831602990627, -0.05818077176809311, 0.03655461594462395, -0.0017192871309816837, 0.07056274265050888, 0.033041637390851974, -0.0005545070744119585, 0.030642542988061905, 0.03282671421766281, 0.023784533143043518, -0.046329669654369354, -0.014112983830273151, -0.006436208263039589, 0.057220086455345154, -0.02804212085902691, 0.007023005746304989, -0.0016958167543634772, 0.04676014184951782, 0.006791005842387676, 0.046524278819561005, -0.027142958715558052, -0.007471438497304916, 0.0020926245488226414, -0.04901742935180664, 0.011855307035148144, -0.019574550911784172, -0.012615544721484184, 0.022450728341937065, -0.014170139096677303, 0.00512318778783083, -0.016800230368971825, -0.013440216891467571, 0.00838746689260006, 0.05364624038338661, 0.009182559326291084, -0.004938980098813772, 0.007577240467071533, -0.023510335013270378, 0.00878441333770752, 0.02885836362838745, 0.0016851595137268305, 0.03568890690803528, 0.038737643510103226, -0.03840012848377228, -0.03841781988739967, -0.004254477564245462, 0.0007840482285246253, 0.026478774845600128, 0.06534073501825333, 0.0075961085967719555, 0.03616777062416077, -0.01396659854799509, -0.03551066666841507, 0.07255934178829193, 0.044309668242931366, -0.040220875293016434, 0.011102832853794098, 0.019529033452272415, -0.02445286512374878, -0.037227921187877655, -0.02049994468688965, 0.0019613762851804495, 0.0030410061590373516, 0.06204424798488617, 0.03797680139541626, -0.05648244544863701, 0.009595373645424843, 0.013992293737828732, 0.011832093819975853, -0.009215371683239937, -0.00016770361980888993, -0.03210052475333214, -0.0019923343788832426, 0.11278900504112244, 0.03534649685025215, -0.031736794859170914, 0.018920568749308586, -0.04547348618507385, 0.001991162309423089, -0.0008143896120600402, -0.033454377204179764, 0.01598282717168331, 0.0033851652406156063, 0.03723090514540672, 0.04517819359898567, -0.007402660790830851, -0.0027637933380901814, -0.008305462077260017, 0.015100597403943539, 0.028398150578141212, 0.0039355941116809845, 0.03539776802062988, 0.04066114127635956, -0.03344208002090454, -0.03409666195511818, 0.09596408158540726, -0.04926839470863342, 0.006702878046780825, 0.02434222400188446, 0.008479266427457333, 0.006385051645338535, -0.004620010498911142, 0.05671678110957146, -0.020721808075904846, -0.003002225188538432, -0.02359442226588726, 0.010768274776637554, 0.029785966500639915, 0.014713114127516747, 0.03186449036002159, 0.09027853608131409, 0.03936447203159332, 0.03792896866798401, 0.005119555164128542, -0.0116663733497262, -0.01727735809981823, -0.014956559054553509, 0.005004249047487974, -0.011949311941862106, 0.018124425783753395, 0.008774101734161377, 0.012856020592153072, -0.00033338333014398813, 0.07775399088859558, 0.026669926941394806, -0.004813473671674728, 0.007785692345350981, -0.027621926739811897, 0.032485757023096085, -0.00997013971209526, 0.02488119527697563, -0.02999378740787506, -0.048328250646591187, 0.03226179629564285, -0.030561313033103943, 0.005936021916568279, 0.01666959747672081, -0.015962058678269386, 0.05527576059103012, 0.046288058161735535, -0.05024852603673935, -0.037807926535606384, 0.040279824286699295, 0.07944083958864212, 0.05022837594151497, -0.01019559521228075, 0.01405034027993679, 0.0073347557336091995, -0.016196874901652336, 0.031503528356552124, 0.03977874293923378, 0.006426034960895777, 0.003003042656928301, 0.011982440017163754, -0.009725138545036316, -0.01112393382936716, -0.01742738112807274, 0.05169883742928505, -0.004776335321366787, -0.050982456654310226, 0.02720002643764019, -0.007934050634503365, 0.00249877548776567, -0.05646225064992905, 0.0047592888586223125, -0.021819857880473137, -0.019626053050160408, 0.023667991161346436, -0.03227831795811653, -0.050497278571128845, 0.053918804973363876, 0.03817831724882126, 0.0022126068361103535, 0.008739207871258259, 0.021290941163897514, 0.03543100878596306, 0.0027256212197244167, -0.025187380611896515, 0.0187833234667778, -0.03331839293241501, -0.049753785133361816, 0.030955985188484192, 0.02000843547284603, -7.233965152408928e-05, -0.002756093628704548, 0.02226344496011734, 0.02281273528933525, -0.008742058649659157, 0.023433612659573555, 0.020081114023923874, -0.06259124726057053, -0.015535390935838223, 0.034800417721271515, 0.05389319360256195, -0.017872223630547523, -0.053945548832416534, 0.03357914090156555, 0.003459774889051914, -0.0006262476090341806, -0.05932875722646713, 0.015282810665667057, -0.04922997206449509, -0.01976506970822811, 0.005173576530069113, 0.004497950430959463, 0.04938756301999092, -0.049016762524843216, -0.03136010468006134, -0.013435465283691883, 0.03777673467993736, 0.06330332159996033, -0.00019321715808473527, -0.024089844897389412, -0.01129773911088705, 0.0029713036492466927, -0.0041019427590072155, -0.012421111576259136, -0.022098226472735405, -0.03740822523832321, 0.01736360788345337, -0.02774909697473049, -0.014407962560653687, 0.037485912442207336, -0.012380869127810001, -0.034296683967113495, -0.08294589817523956, -0.008726800791919231, -0.06702136993408203, 0.0076506431214511395, 0.06630724668502808, -0.0565168634057045, -0.03760774806141853, -0.012355106882750988, -0.04756826162338257, -0.06499501317739487, -0.05239349976181984, -0.049333006143569946, -0.0005118332919664681, 0.046210240572690964, -0.0179582592099905, 0.02379206009209156, -0.03755011782050133, -0.015485153533518314, 0.04876364395022392, 0.018372943624854088, -0.04803051799535751, 0.04743071272969246, -0.04277980700135231, 0.013173608109354973, -0.03088994510471821, -0.03752336651086807, -0.027289891615509987, 0.03605346381664276, 0.06692401319742203, 0.0035906056873500347, -0.04189039766788483, 0.041427191346883774, -0.013937478885054588, -0.017434323206543922, -0.01580006070435047, 0.05355234444141388, 0.017866408452391624, -0.0017101442208513618, -0.05191080644726753, -0.0021895680110901594, -0.03468567505478859, -0.024128295481204987, -0.0754103884100914, -0.04711040481925011, -0.015436381101608276, -0.011835101060569286, -0.0364733561873436, -0.04932260140776634, -0.06618116050958633, 0.018679246306419373, -0.025240562856197357, 0.031154347583651543, -0.004829727578908205, 0.03886152803897858, -0.0014665445778518915, -0.01326481532305479, -0.006696086842566729, 0.03378303349018097, 0.036934711039066315, 0.022984104230999947, -0.03176281601190567, 0.013284661807119846, 0.0007884256774559617, -0.042495615780353546, 0.009770975448191166, 0.07237697392702103, 0.026165708899497986, -0.03126935660839081, 0.005005105398595333, -0.002692147623747587, 0.01180137600749731, 0.01131430733948946, 0.010324489325284958, -0.01649513840675354, 0.06812787801027298, -0.009582997299730778, 0.036977626383304596, -0.023971425369381905, -0.008269166573882103, 0.014507988467812538, 0.020239433273673058, 0.03958108276128769, -0.0007014420116320252, 0.04931987076997757, 0.026092294603586197, -0.008941627107560635, -0.034575287252664566, -0.025935513898730278, -0.0069120461121201515, -0.04178933799266815, 0.06612720340490341, -0.010431126691401005, -0.008502309210598469, -0.017899351194500923, 0.0012385058216750622, 0.00816874485462904, -0.010776459239423275, 0.0249998327344656, 0.02368488721549511, 0.03199097886681557, 0.026103761047124863, 0.010091008618474007, -0.01689731888473034, 0.04026530310511589, 0.008401683531701565, 0.035326290875673294, 0.006236577872186899, -0.03706079721450806, 0.006566555704921484, 0.05264481157064438, 0.06018954887986183, 0.01257152296602726, -0.020523935556411743, 0.006273648701608181, 0.0028890385292470455, 0.08208327740430832, 0.050510358065366745, 0.03706115111708641, -0.057072363793849945, 0.07755367457866669, -0.017019890248775482, 0.023835664615035057, 0.0054862042888998985, -0.0312443058937788, -0.016066985204815865, -0.01024948712438345, 0.02332710474729538, -0.05358629301190376, 0.004125217441469431, 0.010591577738523483, -0.010327987372875214, 0.014424427412450314, -0.018192654475569725, -0.05123988911509514, 0.04596317559480667, -0.057893119752407074, -0.03625503554940224, 0.05411902442574501, 0.017326293513178825, 0.019806887954473495, 0.013009597547352314, 0.024395914748311043, 0.01957596279680729, -0.04247238487005234, 0.06224726885557175, 0.06882030516862869, -0.0019494405714794993, 0.09833735972642899, -0.03936538100242615, 0.018972527235746384, -0.018438905477523804, 0.0015590970870107412, -0.05794829875230789, 0.024309717118740082]\n"
     ]
    }
   ],
   "source": [
    "from langchain_google_genai.embeddings import GoogleGenerativeAIEmbeddings\n",
    "\n",
    "# Define the embedding function\n",
    "def get_embedding_function():\n",
    "    embeddings = GoogleGenerativeAIEmbeddings(\n",
    "        model=\"models/text-embedding-004\",  # Replace with a valid Google embedding model\n",
    "        api_key=GOOGLE_API_KEY  # Replace with your Google API Key\n",
    "    )\n",
    "    return embeddings\n",
    "\n",
    "# Initialize the embedding function\n",
    "embedding_function = get_embedding_function()\n",
    "\n",
    "# Test the embedding function\n",
    "test_vector = embedding_function.embed_query(\"dog\")\n",
    "print(test_vector)"
   ]
  },
  {
   "cell_type": "markdown",
   "metadata": {},
   "source": [
    "# 5. Create Vector Database\n",
    "\n",
    "## 5.1 Define Vector Database Creation Function"
   ]
  },
  {
   "cell_type": "code",
   "execution_count": 54,
   "metadata": {},
   "outputs": [],
   "source": [
    "import uuid\n",
    "from langchain.vectorstores import Chroma\n",
    "\n",
    "def create_vectorstore(chunks, embedding_function, vectorstore_path):\n",
    "    # Create unique IDs for each document chunk\n",
    "    ids = [str(uuid.uuid5(uuid.NAMESPACE_DNS, doc.page_content)) for doc in chunks]\n",
    "    \n",
    "    # Ensure unique documents\n",
    "    unique_ids = set()\n",
    "    unique_chunks = []\n",
    "    for chunk, id in zip(chunks, ids):\n",
    "        if id not in unique_ids:\n",
    "            unique_ids.add(id)\n",
    "            unique_chunks.append(chunk)\n",
    "    \n",
    "    # Create and persist the vector database\n",
    "    vectorstore = Chroma.from_documents(\n",
    "        documents=unique_chunks,\n",
    "        ids=list(unique_ids),\n",
    "        embedding=embedding_function,\n",
    "        persist_directory=vectorstore_path\n",
    "    )\n",
    "    vectorstore.persist()\n",
    "    return vectorstore"
   ]
  },
  {
   "cell_type": "code",
   "execution_count": 58,
   "metadata": {},
   "outputs": [
    {
     "name": "stdout",
     "output_type": "stream",
     "text": [
      "Number of vectors in the vector store: 9\n"
     ]
    }
   ],
   "source": [
    "\n",
    "print(f\"Number of vectors in the vector store: {vector_count}\")"
   ]
  },
  {
   "cell_type": "markdown",
   "metadata": {},
   "source": [
    "## 5.2 Create and Persist Vector Database"
   ]
  },
  {
   "cell_type": "code",
   "execution_count": null,
   "metadata": {},
   "outputs": [],
   "source": [
    "# Create the vector database\n",
    "vectorstore = create_vectorstore(\n",
    "    chunks=chunks,\n",
    "    embedding_function=embedding_function,\n",
    "    vectorstore_path=\"vectorstore_chroma\"\n",
    ")"
   ]
  },
  {
   "cell_type": "code",
   "execution_count": null,
   "metadata": {},
   "outputs": [
    {
     "ename": "AttributeError",
     "evalue": "'Chroma' object has no attribute 'count'",
     "output_type": "error",
     "traceback": [
      "\u001b[1;31m---------------------------------------------------------------------------\u001b[0m",
      "\u001b[1;31mAttributeError\u001b[0m                            Traceback (most recent call last)",
      "Cell \u001b[1;32mIn[45], line 1\u001b[0m\n\u001b[1;32m----> 1\u001b[0m vector_count \u001b[38;5;241m=\u001b[39m \u001b[43mvectorstore\u001b[49m\u001b[38;5;241;43m.\u001b[39;49m\u001b[43mcount\u001b[49m()\n\u001b[0;32m      2\u001b[0m \u001b[38;5;28mprint\u001b[39m(\u001b[38;5;124mf\u001b[39m\u001b[38;5;124m\"\u001b[39m\u001b[38;5;124mNumber of vectors in the vector store: \u001b[39m\u001b[38;5;132;01m{\u001b[39;00mvector_count\u001b[38;5;132;01m}\u001b[39;00m\u001b[38;5;124m\"\u001b[39m)\n",
      "\u001b[1;31mAttributeError\u001b[0m: 'Chroma' object has no attribute 'count'"
     ]
    }
   ],
   "source": [
    "vector_count = vectorstore.count()\n",
    "print(f\"Number of vectors in the vector store: {vector_count}\")"
   ]
  },
  {
   "cell_type": "markdown",
   "metadata": {},
   "source": [
    "# 6. Query for Relevant Data\n",
    "\n",
    "## 6.1 Load Vector Database"
   ]
  },
  {
   "cell_type": "code",
   "execution_count": null,
   "metadata": {},
   "outputs": [],
   "source": [
    "# Load the vector database\n",
    "vectorstore = Chroma(\n",
    "    persist_directory=\"vectorstore_chroma\",\n",
    "    embedding_function=embedding_function\n",
    ")"
   ]
  },
  {
   "cell_type": "markdown",
   "metadata": {},
   "source": [
    "## 6.2 Retrieve Relevant Chunks"
   ]
  },
  {
   "cell_type": "code",
   "execution_count": null,
   "metadata": {},
   "outputs": [
    {
     "data": {
      "text/plain": [
       "[Document(metadata={'author': 'Thu Vu', 'creationdate': \"D:20240909152042Z00'00'\", 'creator': 'Preview', 'moddate': \"D:20240910141854Z00'00'\", 'page': 0, 'page_label': '1', 'producer': 'macOS Version 14.4.1 (Build 23E224) Quartz PDFContext, AppendMode 1.1', 'source': 'data/Oppenheimer-2006-Applied_Cognitive_Psychology.pdf', 'title': 'Oppenheimer-2006-Applied_Cognitive_Psychology', 'total_pages': 3}, page_content='APPLIED COGNITIVE PSYCHOLOGY\\nAppl. Cognit. Psychol. 20: 139–156 (2006)\\nPublished online 31 October 2005 in Wiley InterScience\\n(www.interscience.wiley.com) DOI: 10.1002/acp.1178\\nConsequences of Erudite Vernacular Utilized Irrespective\\nof Necessity: Problems with Using Long Words Needlessly\\nDANIEL M. OPPENHEIMER*\\nPrinceton University, USA\\nSUMMARY\\nMost texts on writing style encourage authors to avoid overly-complex words. However, a majority\\nof undergraduates admit to deliberately increasing the complexity of their vocabulary so as to give\\nthe impression of intelligence. This paper explores the extent to which this strategy is effective.\\nExperiments 1–3 manipulate complexity of texts and ﬁnd a negative relationship between complex-\\nity and judged intelligence. This relationship held regardless of the quality of the original essay, and\\nirrespective of the participants’ prior expectations of essay quality. The negative impact of\\ncomplexity was mediated by processing ﬂuency. Experiment 4 directly manipulated ﬂuency and\\nfound that texts in hard to read fonts are judged to come from less intelligent authors. Experiment 5\\ninvestigated discounting of ﬂuency. When obvious causes for low ﬂuency exist that are not relevant\\nto the judgement at hand, people reduce their reliance on ﬂuency as a cue; in fact, in an effort not to\\nbe inﬂuenced by the irrelevant source of ﬂuency, they over-compensate and are biased in the opposite'),\n",
       " Document(metadata={'author': 'Thu Vu', 'creationdate': \"D:20240909152042Z00'00'\", 'creator': 'Preview', 'moddate': \"D:20240910141854Z00'00'\", 'page': 2, 'page_label': '3', 'producer': 'macOS Version 14.4.1 (Build 23E224) Quartz PDFContext, AppendMode 1.1', 'source': 'data/Oppenheimer-2006-Applied_Cognitive_Psychology.pdf', 'title': 'Oppenheimer-2006-Applied_Cognitive_Psychology', 'total_pages': 3}, page_content='thesaurus, or for which there was no entry with the same linguistic sense were not\\nreplaced. If two entries were of the same length, the replacement was chosen alphabe-\\ntically. When necessary, minor modiﬁcations were made to the essay to maintain the\\ngrammatical structure of a sentence (e.g. replacing ‘an’ with ‘a’ for replacement words\\nbeginning with consonants). A ‘moderately complex’ version of each excerpt was created\\nusing the same algorithm as above, except replacing only every third applicable word.\\nExamples of the stimuli can be found in the appendix.\\nEach participant received only one excerpt. Participants were informed that the excerpt\\ncame from a personal statement for graduate study in the Stanford English department.\\nThey were instructed to read the passage, decide whether or not to accept the applicant,\\nand rate their conﬁdence in their decision on a 7-point scale. 1 They were then asked how\\ndifﬁcult the passage was to understand, also on a seven-point scale.\\nResults\\nThe data of one participant was discarded due to an illegible answer. Analysis of the\\nmanipulation check showed that more complex texts were more difﬁcult to read. ( x ¼ 2.9,\\n4.0 and 4.3 for simple, moderately complex and highly complex, respectively). These\\ndifferences were reliable, F(2, 68) ¼ 4.46, p < 0.05, Cohen’s f ¼ 0.18. For other analyses,\\nacceptance ratings ( þ1 for accept, /C01 for reject) were multiplied by conﬁdence ratings to'),\n",
       " Document(metadata={'author': 'Thu Vu', 'creationdate': \"D:20240909152042Z00'00'\", 'creator': 'Preview', 'moddate': \"D:20240910141854Z00'00'\", 'page': 1, 'page_label': '2', 'producer': 'macOS Version 14.4.1 (Build 23E224) Quartz PDFContext, AppendMode 1.1', 'source': 'data/Oppenheimer-2006-Applied_Cognitive_Psychology.pdf', 'title': 'Oppenheimer-2006-Applied_Cognitive_Psychology', 'total_pages': 3}, page_content='was unnecessary and thus surprising readers with the relative disﬂuency of the text.\\nBoth the experts and prevailing wisdom present plausible views, but which (if either) is\\ncorrect? The present paper provides an empirical investigation of the strategy of complex-\\nity, and ﬁnds such a strategy to be unsuccessful. Five studies demonstrate that the loss of\\nﬂuency due to needless complexity in a text negatively impacts raters’ assessments of the\\ntext’s authors.\\nEXPERIMENT 1\\nExperiment 1 aimed to answer several simple questions. First, does increasing the\\ncomplexity of text succeed in making the author appear more intelligent? Second, to\\nwhat extent does the success of this strategy depend on the quality of the original, simpler\\nwriting? Finally, if the strategy is unsuccessful, is the failure of the strategy due to loss of\\nﬂuency? To answer these questions, graduate school admission essays were made more\\ncomplex by substituting some of the original words with their longest applicable thesaurus\\nentries.\\n140 D. M. Oppenheimer\\nCopyright # 2005 John Wiley & Sons, Ltd. Appl. Cognit. Psychol. 20: 139–156 (2006)'),\n",
       " Document(metadata={'author': 'Thu Vu', 'creationdate': \"D:20240909152042Z00'00'\", 'creator': 'Preview', 'moddate': \"D:20240910141854Z00'00'\", 'page': 0, 'page_label': '1', 'producer': 'macOS Version 14.4.1 (Build 23E224) Quartz PDFContext, AppendMode 1.1', 'source': 'data/Oppenheimer-2006-Applied_Cognitive_Psychology.pdf', 'title': 'Oppenheimer-2006-Applied_Cognitive_Psychology', 'total_pages': 3}, page_content='be inﬂuenced by the irrelevant source of ﬂuency, they over-compensate and are biased in the opposite\\ndirection. Implications and applications are discussed. Copyright # 2005 John Wiley & Sons, Ltd.\\nWhen it comes to writing, most experts agree that clarity, simplicity and parsimony are\\nideals that authors should strive for. In their classic manual of style, Strunk and White\\n(1979) encourage authors to ‘omit needless words.’ Daryl Bem’s (1995) guidelines for\\nsubmission to Psychological Bulletin advise, ‘the ﬁrst step towards clarity is writing\\nsimply.’ Even the APA publication manual (1996) recommends, ‘direct, declarative\\nsentences with simple common words are usually best.’\\nHowever, most of us can likely recall having read papers, either by colleagues or\\nstudents, in which the author appears to be deliberately using overly complex words.\\nExperience suggests that the experts’ advice contrasts with prevailing wisdom on how to\\nsound more intelligent as a writer. In fact, when 110 Stanford undergraduates were polled\\nabout their writing habits, most of them admitted that they had made their writing more\\ncomplex in order to appear smarter. For example, when asked, ‘Have you ever changed the\\nwords in an academic essay to make the essay sound more valid or intelligent by using\\ncomplicated language?’ 86.4% of the sample admitted to having done so. Nearly two-\\nthirds answered yes to the question, ‘When you write an essay, do you turn to the thesaurus')]"
      ]
     },
     "execution_count": 41,
     "metadata": {},
     "output_type": "execute_result"
    }
   ],
   "source": [
    "# Create a retriever to get relevant chunks\n",
    "retriever = vectorstore.as_retriever(search_type=\"similarity\")\n",
    "relevant_chunks = retriever.invoke(\"What is the author of the paper?\")\n",
    "relevant_chunks"
   ]
  },
  {
   "cell_type": "markdown",
   "metadata": {},
   "source": [
    "# 7. Generate Responses\n",
    "\n",
    "## 7.1 Define Prompt Template"
   ]
  },
  {
   "cell_type": "code",
   "execution_count": null,
   "metadata": {},
   "outputs": [],
   "source": [
    "from langchain_core.prompts import ChatPromptTemplate\n",
    "\n",
    "PROMPT_TEMPLATE = \"\"\"\n",
    "You are an assistant for question-answering tasks. Use the following pieces of retrieved context to answer the question. If you don't know the answer, say that you don't know. DON'T MAKE UP ANYTHING.\n",
    "{context}\n",
    "--\n",
    "Answer the question based on the above context: {question}\n",
    "\"\"\""
   ]
  },
  {
   "cell_type": "markdown",
   "metadata": {},
   "source": [
    "## 7.2 Generate Response"
   ]
  },
  {
   "cell_type": "code",
   "execution_count": null,
   "metadata": {},
   "outputs": [
    {
     "name": "stdout",
     "output_type": "stream",
     "text": [
      "content='Consequences of Erudite Vernacular Utilized Irrespective of Necessity: Problems with Using Long Words Needlessly' additional_kwargs={} response_metadata={'prompt_feedback': {'block_reason': 0, 'safety_ratings': []}, 'finish_reason': 'STOP', 'safety_ratings': []} id='run-15d2c7d8-606b-4ee3-b91b-a25283c8395e-0' usage_metadata={'input_tokens': 1346, 'output_tokens': 22, 'total_tokens': 1368, 'input_token_details': {'cache_read': 0}}\n"
     ]
    }
   ],
   "source": [
    "# Concatenate context text\n",
    "context_text = \"\\n\\n---\\n\\n\".join([doc.page_content for doc in relevant_chunks])\n",
    "\n",
    "# Create and format the prompt\n",
    "prompt_template = ChatPromptTemplate.from_template(PROMPT_TEMPLATE)\n",
    "prompt = prompt_template.format(context=context_text, question=\"What is the title of the paper?\")\n",
    "\n",
    "# Invoke the LLM to generate a response\n",
    "response = llm.invoke(prompt)\n",
    "print(response)"
   ]
  },
  {
   "cell_type": "markdown",
   "metadata": {},
   "source": [
    "# 8. Using Langchain Expression Language"
   ]
  },
  {
   "cell_type": "code",
   "execution_count": null,
   "metadata": {},
   "outputs": [
    {
     "name": "stdout",
     "output_type": "stream",
     "text": [
      "content='Consequences of Erudite Vernacular Utilized Irrespective of Necessity: Problems with Using Long Words Needlessly.' additional_kwargs={} response_metadata={'prompt_feedback': {'block_reason': 0, 'safety_ratings': []}, 'finish_reason': 'STOP', 'safety_ratings': []} id='run-b2b0d23e-9f54-4351-9942-e7388118da5b-0' usage_metadata={'input_tokens': 1338, 'output_tokens': 23, 'total_tokens': 1361, 'input_token_details': {'cache_read': 0}}\n"
     ]
    }
   ],
   "source": [
    "from langchain_core.runnables import RunnablePassthrough\n",
    "\n",
    "# Define a function to format documents\n",
    "def format_docs(docs):\n",
    "    return \"\\n\\n\".join(doc.page_content for doc in docs)\n",
    "\n",
    "# Create a retrieval-augmented generation (RAG) chain\n",
    "rag_chain = (\n",
    "    {\"context\": retriever | format_docs, \"question\": RunnablePassthrough()}\n",
    "    | prompt_template\n",
    "    | llm\n",
    ")\n",
    "\n",
    "# Invoke the RAG chain to get the title of the paper\n",
    "response = rag_chain.invoke(\"What's the title of this paper?\")\n",
    "print(response)"
   ]
  },
  {
   "cell_type": "markdown",
   "metadata": {},
   "source": [
    "# 9. Generate Structured Responses\n",
    "## 9.1 Define Data Models"
   ]
  },
  {
   "cell_type": "code",
   "execution_count": null,
   "metadata": {},
   "outputs": [],
   "source": [
    "from pydantic import BaseModel, Field\n",
    "\n",
    "# Define a model for the answer with sources and reasoning\n",
    "class AnswerWithSources(BaseModel):\n",
    "    answer: str = Field(description=\"Answer to question\")\n",
    "    sources: str = Field(description=\"Full direct text chunk from the context used to answer the question\")\n",
    "    reasoning: str = Field(description=\"Explain the reasoning of the answer based on the sources\")\n",
    "\n",
    "# Define a model for extracted information about the research article\n",
    "class ExtractedInfo(BaseModel):\n",
    "    paper_title: AnswerWithSources\n",
    "    paper_summary: AnswerWithSources\n",
    "    publication_year: AnswerWithSources\n",
    "    paper_authors: AnswerWithSources"
   ]
  },
  {
   "cell_type": "markdown",
   "metadata": {},
   "source": [
    "## 9.2 Generate Structured Response"
   ]
  },
  {
   "cell_type": "code",
   "execution_count": null,
   "metadata": {},
   "outputs": [],
   "source": [
    "# Create a RAG chain with structured output\n",
    "rag_chain = (\n",
    "    {\"context\": retriever | format_docs, \"question\": RunnablePassthrough()}\n",
    "    | prompt_template\n",
    "    | llm.with_structured_output(ExtractedInfo)\n",
    ")\n",
    "\n",
    "# Invoke the RAG chain to get structured information\n",
    "structured_response = rag_chain.invoke(\"Give me the title, summary, publication date, authors of the research paper.\")"
   ]
  },
  {
   "cell_type": "code",
   "execution_count": null,
   "metadata": {},
   "outputs": [
    {
     "data": {
      "text/plain": [
       "ExtractedInfo(paper_title=AnswerWithSources(answer='Consequences of Erudite Vernacular Utilized Irrespective of Necessity: Problems with Using Long Words Needlessly', sources='Consequences of Erudite Vernacular Utilized Irrespective\\nof Necessity: Problems with Using Long Words Needlessly', reasoning='The title of the paper is clearly stated at the beginning of the text.'), paper_summary=AnswerWithSources(answer='This paper explores the extent to which the strategy of using complex vocabulary to appear more intelligent is effective. Experiments 1–3 found a negative relationship between complexity and judged intelligence, regardless of essay quality or prior expectations. The negative impact of complexity was mediated by processing ﬂuency. Experiment 4 found that texts in hard to read fonts are judged to come from less intelligent authors. Experiment 5 investigated discounting of ﬂuency and found that people reduce their reliance on ﬂuency as a cue when obvious causes for low ﬂuency exist that are not relevant to the judgement at hand.', sources='Most texts on writing style encourage authors to avoid overly-complex words. However, a majority\\nof undergraduates admit to deliberately increasing the complexity of their vocabulary so as to give\\nthe impression of intelligence. This paper explores the extent to which this strategy is effective.\\nExperiments 1–3 manipulate complexity of texts and ﬁnd a negative relationship between complex-\\nity and judged intelligence. This relationship held regardless of the quality of the original essay, and\\nirrespective of the participants’ prior expectations of essay quality. The negative impact of\\ncomplexity was mediated by processing ﬂuency. Experiment 4 directly manipulated ﬂuency and\\nfound that texts in hard to read fonts are judged to come from less intelligent authors. Experiment 5\\ninvestigated discounting of ﬂuency. When obvious causes for low ﬂuency exist that are not relevant\\nto the judgement at hand, people reduce their reliance on ﬂuency as a cue; in fact, in an effort not to', reasoning='The summary at the beginning of the paper describes the purpose, methods, and findings of the experiments.'), publication_year=AnswerWithSources(answer='2006', sources='Appl. Cognit. Psychol. 20: 139–156 (2006)\\nPublished online 31 October 2005 in Wiley InterScience', reasoning='The publication year is included in the header of the document.'), paper_authors=AnswerWithSources(answer='DANIEL M. OPPENHEIMER', sources='DANIEL M. OPPENHEIMER*\\nPrinceton University, USA', reasoning='The author of the paper is listed under the title.'))"
      ]
     },
     "execution_count": 17,
     "metadata": {},
     "output_type": "execute_result"
    }
   ],
   "source": [
    "structured_response "
   ]
  },
  {
   "cell_type": "markdown",
   "metadata": {},
   "source": [
    "## 9.3 Transform Response into a DataFrame"
   ]
  },
  {
   "cell_type": "code",
   "execution_count": null,
   "metadata": {},
   "outputs": [
    {
     "name": "stdout",
     "output_type": "stream",
     "text": [
      "                                                 paper_title  \\\n",
      "answer     Consequences of Erudite Vernacular Utilized Ir...   \n",
      "source     Consequences of Erudite Vernacular Utilized Ir...   \n",
      "reasoning  The title of the paper is clearly stated at th...   \n",
      "\n",
      "                                               paper_summary  \\\n",
      "answer     This paper explores the extent to which the st...   \n",
      "source     Most texts on writing style encourage authors ...   \n",
      "reasoning  The summary at the beginning of the paper desc...   \n",
      "\n",
      "                                            publication_year  \\\n",
      "answer                                                  2006   \n",
      "source     Appl. Cognit. Psychol. 20: 139–156 (2006)\\nPub...   \n",
      "reasoning  The publication year is included in the header...   \n",
      "\n",
      "                                               paper_authors  \n",
      "answer                                 DANIEL M. OPPENHEIMER  \n",
      "source     DANIEL M. OPPENHEIMER*\\nPrinceton University, USA  \n",
      "reasoning  The author of the paper is listed under the ti...  \n"
     ]
    },
    {
     "name": "stderr",
     "output_type": "stream",
     "text": [
      "C:\\Users\\Admin\\AppData\\Local\\Temp\\ipykernel_10724\\919763079.py:4: PydanticDeprecatedSince20: The `dict` method is deprecated; use `model_dump` instead. Deprecated in Pydantic V2.0 to be removed in V3.0. See Pydantic V2 Migration Guide at https://errors.pydantic.dev/2.10/migration/\n",
      "  df = pd.DataFrame([structured_response.dict()])\n"
     ]
    }
   ],
   "source": [
    "import pandas as pd\n",
    "\n",
    "# Convert the structured response to a DataFrame\n",
    "df = pd.DataFrame([structured_response.dict()])\n",
    "\n",
    "# Transform into a table with two rows: 'answer' and 'source'\n",
    "answer_row = []\n",
    "source_row = []\n",
    "reasoning_row = []\n",
    "\n",
    "for col in df.columns:\n",
    "    answer_row.append(df[col][0]['answer'])\n",
    "    source_row.append(df[col][0]['sources'])\n",
    "    reasoning_row.append(df[col][0]['reasoning'])\n",
    "\n",
    "# Create a new DataFrame with two rows: 'answer' and 'source'\n",
    "structured_response_df = pd.DataFrame(\n",
    "    [answer_row, source_row, reasoning_row],\n",
    "    columns=df.columns,\n",
    "    index=['answer', 'source', 'reasoning']\n",
    ")\n",
    "\n",
    "print(structured_response_df)"
   ]
  },
  {
   "cell_type": "code",
   "execution_count": null,
   "metadata": {},
   "outputs": [
    {
     "data": {
      "text/html": [
       "<div>\n",
       "<style scoped>\n",
       "    .dataframe tbody tr th:only-of-type {\n",
       "        vertical-align: middle;\n",
       "    }\n",
       "\n",
       "    .dataframe tbody tr th {\n",
       "        vertical-align: top;\n",
       "    }\n",
       "\n",
       "    .dataframe thead th {\n",
       "        text-align: right;\n",
       "    }\n",
       "</style>\n",
       "<table border=\"1\" class=\"dataframe\">\n",
       "  <thead>\n",
       "    <tr style=\"text-align: right;\">\n",
       "      <th></th>\n",
       "      <th>paper_title</th>\n",
       "      <th>paper_summary</th>\n",
       "      <th>publication_year</th>\n",
       "      <th>paper_authors</th>\n",
       "    </tr>\n",
       "  </thead>\n",
       "  <tbody>\n",
       "    <tr>\n",
       "      <th>answer</th>\n",
       "      <td>Consequences of Erudite Vernacular Utilized Ir...</td>\n",
       "      <td>This paper explores the extent to which the st...</td>\n",
       "      <td>2006</td>\n",
       "      <td>DANIEL M. OPPENHEIMER</td>\n",
       "    </tr>\n",
       "    <tr>\n",
       "      <th>source</th>\n",
       "      <td>Consequences of Erudite Vernacular Utilized Ir...</td>\n",
       "      <td>Most texts on writing style encourage authors ...</td>\n",
       "      <td>Appl. Cognit. Psychol. 20: 139–156 (2006)\\nPub...</td>\n",
       "      <td>DANIEL M. OPPENHEIMER*\\nPrinceton University, USA</td>\n",
       "    </tr>\n",
       "    <tr>\n",
       "      <th>reasoning</th>\n",
       "      <td>The title of the paper is clearly stated at th...</td>\n",
       "      <td>The summary at the beginning of the paper desc...</td>\n",
       "      <td>The publication year is included in the header...</td>\n",
       "      <td>The author of the paper is listed under the ti...</td>\n",
       "    </tr>\n",
       "  </tbody>\n",
       "</table>\n",
       "</div>"
      ],
      "text/plain": [
       "                                                 paper_title  \\\n",
       "answer     Consequences of Erudite Vernacular Utilized Ir...   \n",
       "source     Consequences of Erudite Vernacular Utilized Ir...   \n",
       "reasoning  The title of the paper is clearly stated at th...   \n",
       "\n",
       "                                               paper_summary  \\\n",
       "answer     This paper explores the extent to which the st...   \n",
       "source     Most texts on writing style encourage authors ...   \n",
       "reasoning  The summary at the beginning of the paper desc...   \n",
       "\n",
       "                                            publication_year  \\\n",
       "answer                                                  2006   \n",
       "source     Appl. Cognit. Psychol. 20: 139–156 (2006)\\nPub...   \n",
       "reasoning  The publication year is included in the header...   \n",
       "\n",
       "                                               paper_authors  \n",
       "answer                                 DANIEL M. OPPENHEIMER  \n",
       "source     DANIEL M. OPPENHEIMER*\\nPrinceton University, USA  \n",
       "reasoning  The author of the paper is listed under the ti...  "
      ]
     },
     "execution_count": 19,
     "metadata": {},
     "output_type": "execute_result"
    }
   ],
   "source": [
    "structured_response_df"
   ]
  },
  {
   "cell_type": "code",
   "execution_count": null,
   "metadata": {},
   "outputs": [],
   "source": []
  }
 ],
 "metadata": {
  "kernelspec": {
   "display_name": "pdf_extractor",
   "language": "python",
   "name": "python3"
  },
  "language_info": {
   "codemirror_mode": {
    "name": "ipython",
    "version": 3
   },
   "file_extension": ".py",
   "mimetype": "text/x-python",
   "name": "python",
   "nbconvert_exporter": "python",
   "pygments_lexer": "ipython3",
   "version": "3.13.2"
  }
 },
 "nbformat": 4,
 "nbformat_minor": 2
}
